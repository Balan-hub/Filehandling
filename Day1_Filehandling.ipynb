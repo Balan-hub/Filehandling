{
  "nbformat": 4,
  "nbformat_minor": 0,
  "metadata": {
    "colab": {
      "provenance": []
    },
    "kernelspec": {
      "name": "python3",
      "display_name": "Python 3"
    },
    "language_info": {
      "name": "python"
    }
  },
  "cells": [
    {
      "cell_type": "code",
      "source": [
        "# write a text into a file\n",
        "text = \"Nttdata\"\n",
        "\n",
        "f = open(\"aaa.txt\",\"w\")\n",
        "f.write(text)\n",
        "f.close()"
      ],
      "metadata": {
        "id": "MA6uYLEGqzXH"
      },
      "execution_count": 4,
      "outputs": []
    },
    {
      "cell_type": "code",
      "source": [
        "f1 = open(\"aaa.txt\" , \"r\")\n",
        "\n",
        "data = f1.read()\n",
        "print(data)\n",
        "f1.close()"
      ],
      "metadata": {
        "id": "tW1lDSuFwIkS",
        "outputId": "e2ea5761-cc33-44b9-dff3-24202e6a166e",
        "colab": {
          "base_uri": "https://localhost:8080/"
        }
      },
      "execution_count": 5,
      "outputs": [
        {
          "output_type": "stream",
          "name": "stdout",
          "text": [
            "Nttdata\n"
          ]
        }
      ]
    }
  ]
}